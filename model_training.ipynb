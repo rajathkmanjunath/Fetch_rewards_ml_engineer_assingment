{
 "cells": [
  {
   "cell_type": "markdown",
   "id": "5633bed8",
   "metadata": {},
   "source": [
    "### Importing the Libraries"
   ]
  },
  {
   "cell_type": "code",
   "execution_count": 10,
   "id": "1f0a3531-3892-4540-b7b9-88442e3fae96",
   "metadata": {},
   "outputs": [],
   "source": [
    "import numpy as np\n",
    "import pandas as pd\n",
    "import torch\n",
    "import torch.nn as nn\n",
    "import torch.optim as optim\n",
    "import matplotlib.pyplot as plt\n",
    "import datetime"
   ]
  },
  {
   "cell_type": "markdown",
   "id": "6395c47a",
   "metadata": {},
   "source": [
    "### Importing the dataset"
   ]
  },
  {
   "cell_type": "code",
   "execution_count": 11,
   "id": "407649bc",
   "metadata": {},
   "outputs": [],
   "source": [
    "def get_date_offset(dates):\n",
    "    base_date = datetime.datetime.strptime('2021-01-01', \"%Y-%m-%d\")\n",
    "    date_offsets = []\n",
    "    for date_string in dates:\n",
    "        date_object = datetime.datetime.strptime(date_string, \"%Y-%m-%d\")\n",
    "        offset_days = (date_object - base_date).days\n",
    "        \n",
    "        date_offsets.append(offset_days/365)\n",
    "\n",
    "    return np.array(date_offsets)"
   ]
  },
  {
   "cell_type": "code",
   "execution_count": 12,
   "id": "dae4e0d8",
   "metadata": {},
   "outputs": [],
   "source": [
    "df = pd.read_csv('data_daily.csv')\n",
    "\n",
    "X = get_date_offset(df['# Date']).reshape(-1, 1)\n",
    "X = np.hstack((X, [[1] for _ in range(df.shape[0])]))\n",
    "y = df['Receipt_Count'].to_numpy().reshape(-1,1)"
   ]
  },
  {
   "cell_type": "markdown",
   "id": "4a2826d5",
   "metadata": {},
   "source": [
    "From the visualization, it is clear that there is a linear relationship between the dates and the number of receipts scanned. So we should create a Linear regression model of type \n",
    "\n",
    "$$\n",
    "y = Ax + B\n",
    "$$\n",
    "\n",
    "where y is the number of scanned receipts and x is the number of days from 1 January 2021. A and B are co-efficients learned by the model."
   ]
  },
  {
   "cell_type": "code",
   "execution_count": 13,
   "id": "b94f48f6-e1ec-428b-8bf1-d6c1a2b8097c",
   "metadata": {},
   "outputs": [],
   "source": [
    "class LinearRegression(nn.Module):\n",
    "    def __init__(self, input_dim, output_dim):\n",
    "        super(LinearRegression, self).__init__()\n",
    "        self.linear = nn.Linear(input_dim, output_dim, dtype=torch.double)  # Input dimension is 1, output dimension is 1\n",
    "\n",
    "    def forward(self, x):\n",
    "        return self.linear(x)\n",
    "\n",
    "    def train(self, x_train, y_train, num_epochs=1000, learning_rate=0.01):\n",
    "        criterion = nn.MSELoss()  # Mean Squared Error loss\n",
    "        optimizer = optim.SGD(self.parameters(), lr=learning_rate)  # Stochastic Gradient Descent optimizer\n",
    "\n",
    "        for epoch in range(num_epochs):\n",
    "            # x_train = x_train.double()\n",
    "            # y_train = y_train.double()\n",
    "            # Forward pass\n",
    "            outputs = self(x_train)\n",
    "            loss = criterion(outputs, y_train)\n",
    "\n",
    "            # Backward pass and optimization\n",
    "            optimizer.zero_grad()\n",
    "            loss.backward()\n",
    "            optimizer.step()\n",
    "\n",
    "            if (epoch + 1) % 100000 == 0:\n",
    "                print(f'Epoch [{epoch+1}/{num_epochs}], Loss: {loss.item():.4f}')\n",
    "\n",
    "    def test(self, x_test):\n",
    "        with torch.no_grad():\n",
    "            return self(x_test)"
   ]
  },
  {
   "cell_type": "markdown",
   "id": "05260fb7",
   "metadata": {},
   "source": [
    "### Training the data set\n",
    "\n",
    "After tuning the hyper parameters, learning rate of $10^{-5}$ generates the best fit."
   ]
  },
  {
   "cell_type": "code",
   "execution_count": 14,
   "id": "7041d018-33dd-4f89-a4da-02191231165e",
   "metadata": {},
   "outputs": [
    {
     "name": "stdout",
     "output_type": "stream",
     "text": [
      "Epoch [100000/1000000], Loss: 76839516906.2646\n",
      "Epoch [200000/1000000], Loss: 62249653054.5508\n",
      "Epoch [300000/1000000], Loss: 58361335465.8239\n",
      "Epoch [400000/1000000], Loss: 55467840523.3511\n",
      "Epoch [500000/1000000], Loss: 53314024244.0943\n",
      "Epoch [600000/1000000], Loss: 51710798777.6123\n",
      "Epoch [700000/1000000], Loss: 50517413844.4797\n",
      "Epoch [800000/1000000], Loss: 49629099862.1986\n",
      "Epoch [900000/1000000], Loss: 48967870019.9178\n",
      "Epoch [1000000/1000000], Loss: 48475673664.7504\n"
     ]
    }
   ],
   "source": [
    "X = torch.tensor(X, dtype = torch.double)\n",
    "\n",
    "y = torch.tensor(y, dtype=torch.double)\n",
    "\n",
    "torch.manual_seed(0)\n",
    "\n",
    "# Initialize and fit the linear regression model\n",
    "model = LinearRegression(2, 1)\n",
    "model.train(X, y, num_epochs=1000000, learning_rate=0.00001)"
   ]
  },
  {
   "cell_type": "markdown",
   "id": "fb5881ce",
   "metadata": {},
   "source": [
    "### Plotting the Test data and the training data\n",
    "\n",
    "The training data is given for the year 2021 and the model is to project the trend for the year 2022. So plotting the projection and the validate appropriate projection of the trend for the year 2022."
   ]
  },
  {
   "cell_type": "code",
   "execution_count": 15,
   "id": "2381c60e-b6c4-443b-b748-836e200eb582",
   "metadata": {},
   "outputs": [
    {
     "name": "stdout",
     "output_type": "stream",
     "text": [
      "Predicted value: tensor(12527638.2628, dtype=torch.float64) tensor(10211187., dtype=torch.float64)\n"
     ]
    },
    {
     "data": {
      "text/plain": [
       "<matplotlib.legend.Legend at 0x168b1fd00>"
      ]
     },
     "execution_count": 15,
     "metadata": {},
     "output_type": "execute_result"
    },
    {
     "data": {
      "image/png": "[encoded data removed]",
      "text/plain": [
       "<Figure size 640x480 with 1 Axes>"
      ]
     },
     "metadata": {},
     "output_type": "display_data"
    }
   ],
   "source": [
    "x_test = np.array([x+1 for x in X[:,0]]).reshape(-1, 1)\n",
    "X_test = np.hstack((x_test, [[1] for _ in range(df.shape[0])]))\n",
    "X_test = torch.tensor(X_test, dtype = torch.double)\n",
    "y_pred = model.test(X_test)\n",
    "print(\"Predicted value:\", y_pred[-1][0], y[-1][0])\n",
    "plt.plot(X_test[:, 0], y_pred)\n",
    "plt.plot(X[:, 0], y)\n",
    "plt.legend([\"y_train\", \"y_test\"])"
   ]
  },
  {
   "cell_type": "markdown",
   "id": "45183827",
   "metadata": {},
   "source": [
    "### Saving the model\n",
    "Now that the model is a good match, we save the model to be used by our application"
   ]
  },
  {
   "cell_type": "code",
   "execution_count": 16,
   "id": "bab76d9e-6255-4079-87c7-d8f00f6a4ca6",
   "metadata": {},
   "outputs": [],
   "source": [
    "traced_model = torch.jit.trace(model, X)\n",
    "traced_model.save(\"linear_regression_model.pt\")"
   ]
  }
 ],
 "metadata": {
  "kernelspec": {
   "display_name": "Python 3 (ipykernel)",
   "language": "python",
   "name": "python3"
  },
  "language_info": {
   "codemirror_mode": {
    "name": "ipython",
    "version": 3
   },
   "file_extension": ".py",
   "mimetype": "text/x-python",
   "name": "python",
   "nbconvert_exporter": "python",
   "pygments_lexer": "ipython3",
   "version": "3.8.17"
  }
 },
 "nbformat": 4,
 "nbformat_minor": 5
}
